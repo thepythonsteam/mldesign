{
 "cells": [
  {
   "cell_type": "code",
   "execution_count": 3,
   "id": "dd842280",
   "metadata": {},
   "outputs": [],
   "source": [
    "import requests\n",
    "from bs4 import BeautifulSoup\n",
    "from fake_useragent import UserAgent\n",
    "import json\n",
    "import re"
   ]
  },
  {
   "cell_type": "code",
   "execution_count": 4,
   "id": "1e461238",
   "metadata": {},
   "outputs": [
    {
     "data": {
      "text/plain": [
       "'Mozilla/5.0 (X11; Linux x86_64) AppleWebKit/537.36 (KHTML, like Gecko) Chrome/34.0.1847.137 Safari/4E423F'"
      ]
     },
     "execution_count": 4,
     "metadata": {},
     "output_type": "execute_result"
    }
   ],
   "source": [
    "UserAgent().random"
   ]
  },
  {
   "cell_type": "code",
   "execution_count": 11,
   "id": "69546f92",
   "metadata": {},
   "outputs": [],
   "source": [
    "# url = 'https://www.cian.ru/cat.php?deal_type=rent&engine_version=2&maxarea=20&minarea=5&offer_type=offices&office_type%5B0%5D=2&office_type%5B1%5D=5&p=2&region=1'\n",
    "\n",
    "# url = 'https://www.cian.ru/'\n",
    "\n",
    "url = 'https://www.cian.ru/snyat-ofis/'\n",
    "# url = 'https://www.cian.ru/cat.php?deal_type=rent&engine_version=2&maxarea=20&minarea=5&offer_type=offices&office_type%5B0%5D=2&office_type%5B1%5D=5&p=2&region=1'\n",
    "\n",
    "\n",
    "# html = requests.get(url, headers={'User-Agent':str(UserAgent().random)}).text\n",
    "\n",
    "html = requests.get(url).text\n",
    "\n",
    "soup = BeautifulSoup(html, 'lxml')"
   ]
  },
  {
   "cell_type": "code",
   "execution_count": 12,
   "id": "0ad6a021",
   "metadata": {},
   "outputs": [
    {
     "data": {
      "text/plain": [
       "<!DOCTYPE html>\n",
       "<html lang=\"ru\"><head><meta charset=\"utf-8\"/><meta content=\"width=device-width, initial-scale=1.0\" name=\"viewport\"/><style>/*! normalize.css v8.0.1 | MIT License | github.com/necolas/normalize.css */html{-webkit-text-size-adjust:100%;height:100%;font-family:Lato,Arial,sans-serif;font-size:14px;line-height:20px;color:#121212;-webkit-font-smoothing:antialiased;-moz-osx-font-smoothing:grayscale}body{margin:0;min-height:100%;display:flex;flex-direction:column}h1{font-size:2em;margin:.67em 0}hr{box-sizing:content-box;height:0;overflow:visible}code,kbd,pre,samp{font-family:monospace,monospace;font-size:1em}abbr[title]{border-bottom:none;text-decoration:underline dotted}b,strong{font-weight:bolder}small{font-size:80%}sub,sup{font-size:75%;line-height:0;position:relative;vertical-align:baseline}sub{bottom:-.25em}sup{top:-.5em}button,input,optgroup,select,textarea{font-size:100%;line-height:1.15;margin:0}button,input{overflow:visible}button,select{text-transform:none}[type=button],[type=reset],[type=submit],button{-webkit-appearance:button}[type=button]::-moz-focus-inner,[type=reset]::-moz-focus-inner,[type=submit]::-moz-focus-inner,button::-moz-focus-inner{border-style:none;padding:0}[type=button]:-moz-focusring,[type=reset]:-moz-focusring,[type=submit]:-moz-focusring,button:-moz-focusring{outline:1px dotted ButtonText}fieldset{padding:.35em .75em .625em}legend{box-sizing:border-box;display:table;max-width:100%;padding:0;white-space:normal}progress{vertical-align:baseline}[type=number]::-webkit-inner-spin-button,[type=number]::-webkit-outer-spin-button{height:auto}[type=search]{-webkit-appearance:textfield;outline-offset:-2px}[type=search]::-webkit-search-decoration{-webkit-appearance:none}::-webkit-file-upload-button{-webkit-appearance:button;font:inherit}details{display:block}summary{display:list-item}*{box-sizing:border-box}button,input,optgroup,select,textarea{font-family:inherit}</style><title>Ошибка - Циан</title><style>body{height:100vh}.logo-image{width:386px;margin-bottom:52px}.container{height:auto;padding:80px;-ms-flex-positive:1;flex-grow:1;-ms-flex-negative:0;flex-shrink:0;background-size:84% auto}.info{width:100%;max-width:386px}.title{font-size:38px;line-height:46px;font-weight:700;color:#000;margin:0 0 16px}.cf-browser-verification.cf-im-under-attack,.hidden{display:none}.cferror_details{list-style-type:none}.cf-error-details{color:#737a8e}.cf-error-details h1{font-size:18px;line-height:24px;color:#737a8e;margin:0 0 32px}@media (max-width:546px){.container{background:0 0;padding:30px 16px 16px}.info{max-width:100%;margin:0 auto}.cf-error-details h1,.title{max-width:250px;text-align:center}.logo{text-align:center}.logo-image{width:180px;margin-bottom:25px}.title{margin:0 auto 16px;font-size:22px;line-height:28px}.cf-error-details h1{margin:0 auto 28px;font-size:16px;line-height:22px;font-weight:400}}</style><script data-fonts-public-path=\"https://cdn.cian.site/frontend/fonts/\">!function(o){function n(e){if(a[e])return a[e].exports;var t=a[e]={exports:{},id:e,loaded:!1};return o[e].call(t.exports,t,t.exports,n),t.loaded=!0,t.exports}var a={};n.m=o,n.c=a,n.p=\"/assets/\",n(0)}([function(e,t,o){function n(){var t=\"ttf\",e=b.version.split(\".\"),o=[e[0],e[1]].join(\".\");return m.forEach(function(e){if(e.browser===b.name&&o>=e.ver)return t=e.font,!1}),t}function a(e,t){var o=[];return o.push(\"@font-face {\"),o.push('font-family:\"',e.name,'\";'),t&&\"eot\"!==t||(o.push('src:url(\"',e.eot,'\");'),o.push('src:url(\"',e.eot,'?#iefix\") format(\"embedded-opentype\");')),t&&\"woff2\"!==t||o.push('src:url(\"',e.woff2,'\") format(\"woff2\");'),t&&\"woff\"!==t||o.push('src:url(\"',e.woff,'\") format(\"woff\");'),t&&\"ttf\"!==t||o.push('src:url(\"',e.ttf,'\") format(\"truetype\");'),w&&o.push(\"font-display:swap;\"),o.push(\"font-style:\",e.style,\";\"),o.push(\"font-weight:\",e.weight,\";\"),o.push(\"text-rendering: optimizeLegibility;\"),o.push(\"}\"),o.join(\"\")}function f(e){var t=document.head||document.getElementsByTagName(\"head\")[0],o=document.createElement(\"style\");o.styleSheet?o.styleSheet.cssText=e:o.appendChild(document.createTextNode(e)),t.appendChild(o)}function r(e){return\"cian-fonts:\"+e.woff2}function i(e){try{var t=localStorage.getItem(r(e.font));t&&(e.base64=t)}catch(e){}}function c(t){return fetch(t.font.woff2).then(function(e){return e.blob()}).then(function(e){return function(n){return new Promise(function(t,e){var o=new FileReader;o.onerror=function(){e(new Error(\"Unable to read blob\"))},o.onload=function(){var e=o.result.split(\",\")[1];t(e)},o.readAsDataURL(n)})}(e)}).then(function(e){return t.base64=e,t})}function s(e){f(e.map(function(e){var t=e.font,o=e.base64;return a({name:t.name,weight:t.weight,style:t.style,woff2:\"data:application/font-woff2;base64,\"+o},\"woff2\")}).join(\"\"))}function l(e){var t=e.map(function(e){return{font:e,base64:void 0}});return t.forEach(i),t.every(function(e){return e.base64})?void s(t):void Promise.all(t.map(function(e){return e.base64?e:c(e).then(function(e){return function(e){if(window.localStorage&&window.localStorage.setItem)try{localStorage.setItem(r(e.font),e.base64)}catch(e){}}(e),e})})).then(s)}var d,u,p,b=o(1),w=!(\"undefined\"==typeof CSS||!CSS.supports||!CSS.supports(\"font-display\",\"swap\"))||(document.firstElementChild?\"fontDisplay\"in document.firstElementChild.style:\"fontDisplay\"in document.createElement(\"div\").style),m=[{browser:\"ie\",ver:0,font:\"eot\"},{browser:\"edge\",ver:14,font:\"woff2\"},{browser:\"yandexbrowser\",ver:13.1,font:\"woff2\"},{browser:\"chrome\",ver:35,font:\"woff2\"},{browser:\"firefox\",ver:39,font:\"woff2\"},{browser:\"opera\",ver:23,font:\"woff2\"},{browser:\"ios\",ver:10.2,font:\"woff2\"}];(function(){var e=document.currentScript||document.querySelector(\"[data-fonts-public-path]\");if(e){var t=e.getAttribute(\"data-fonts-public-path\");t&&(o.p=t)}})(),p=[{name:\"Lato\",weight:300,style:\"normal\",eot:o(20),woff2:o(23),woff:o(22),ttf:o(21)},{name:\"Lato\",weight:400,style:\"normal\",eot:o(24),woff2:o(27),woff:o(26),ttf:o(25)},{name:\"Lato\",weight:400,style:\"italic\",eot:o(16),woff2:o(19),woff:o(18),ttf:o(17)},{name:\"Lato\",weight:600,style:\"normal\",eot:o(28),woff2:o(31),woff:o(30),ttf:o(29)},{name:\"Lato\",weight:600,style:\"italic\",eot:o(32),woff2:o(35),woff:o(34),ttf:o(33)},{name:\"Lato\",weight:700,style:\"normal\",eot:o(8),woff2:o(11),woff:o(10),ttf:o(9)},{name:\"Lato\",weight:700,style:\"italic\",eot:o(12),woff2:o(15),woff:o(14),ttf:o(13)},{name:\"Lato\",weight:900,style:\"normal\",eot:o(4),woff2:o(7),woff:o(6),ttf:o(5)}],w?f(p.map(function(e){return a(e)}).join(\"\")):\"woff2\"===n()&&window.fetch&&window.FileReader?l(p):(d=n(),u=p,Promise.all(u.map(function(n){return new Promise(function(e,t){var o=new XMLHttpRequest;o.open(\"GET\",n[d]+(\"eot\"===d?\"?\":\"\"),!0),o.overrideMimeType(\"application/octet-stream\"),o.send(),o.onreadystatechange=function(){4==o.readyState&&(o.status<400?e():t())}})})).then(function(){f(u.map(function(e){return a(e,d)}).join(\"\"))}))},function(e,t,o){var n,a=o(2);\"undefined\"!=typeof navigator&&navigator&&(n=navigator.userAgent),e.exports=a(n)},function(e,t,o){var a=o(3);e.exports=function(n){if(!n)return null;return[[\"edge\",/Edge\\/([0-9\\._]+)/],[\"yandexbrowser\",/YaBrowser\\/([0-9\\._]+)/],[\"vivaldi\",/Vivaldi\\/([0-9\\.]+)/],[\"kakaotalk\",/KAKAOTALK\\s([0-9\\.]+)/],[\"chrome\",/(?!Chrom.*OPR)Chrom(?:e|ium)\\/([0-9\\.]+)(:?\\s|$)/],[\"phantomjs\",/PhantomJS\\/([0-9\\.]+)(:?\\s|$)/],[\"crios\",/CriOS\\/([0-9\\.]+)(:?\\s|$)/],[\"firefox\",/Firefox\\/([0-9\\.]+)(?:\\s|$)/],[\"fxios\",/FxiOS\\/([0-9\\.]+)/],[\"opera\",/Opera\\/([0-9\\.]+)(?:\\s|$)/],[\"opera\",/OPR\\/([0-9\\.]+)(:?\\s|$)$/],[\"ie\",/Trident\\/7\\.0.*rv\\:([0-9\\.]+).*\\).*Gecko$/],[\"ie\",/MSIE\\s([0-9\\.]+);.*Trident\\/[4-7].0/],[\"ie\",/MSIE\\s(7\\.0)/],[\"bb10\",/BB10;\\sTouch.*Version\\/([0-9\\.]+)/],[\"android\",/Android\\s([0-9\\.]+)/],[\"ios\",/Version\\/([0-9\\._]+).*Mobile.*Safari.*/],[\"safari\",/Version\\/([0-9\\._]+).*Safari/]].map(function(e){if(e[1].test(n)){var t=e[1].exec(n),o=t&&t[1].split(/[._]/).slice(0,3);return o&&o.length<3&&Array.prototype.push.apply(o,1==o.length?[0,0]:[0]),{name:e[0],version:o.join(\".\"),os:a(n)}}}).filter(Boolean).shift()}},function(e,t){e.exports=function(t){var e=[{name:\"iOS\",rule:/iP(hone|od|ad)/},{name:\"Android OS\",rule:/Android/},{name:\"BlackBerry OS\",rule:/BlackBerry|BB10/},{name:\"Windows Mobile\",rule:/IEMobile/},{name:\"Amazon OS\",rule:/Kindle/},{name:\"Windows 3.11\",rule:/Win16/},{name:\"Windows 95\",rule:/(Windows 95)|(Win95)|(Windows_95)/},{name:\"Windows 98\",rule:/(Windows 98)|(Win98)/},{name:\"Windows 2000\",rule:/(Windows NT 5.0)|(Windows 2000)/},{name:\"Windows XP\",rule:/(Windows NT 5.1)|(Windows XP)/},{name:\"Windows Server 2003\",rule:/(Windows NT 5.2)/},{name:\"Windows Vista\",rule:/(Windows NT 6.0)/},{name:\"Windows 7\",rule:/(Windows NT 6.1)/},{name:\"Windows 8\",rule:/(Windows NT 6.2)/},{name:\"Windows 8.1\",rule:/(Windows NT 6.3)/},{name:\"Windows 10\",rule:/(Windows NT 10.0)/},{name:\"Windows ME\",rule:/Windows ME/},{name:\"Open BSD\",rule:/OpenBSD/},{name:\"Sun OS\",rule:/SunOS/},{name:\"Linux\",rule:/(Linux)|(X11)/},{name:\"Mac OS\",rule:/(Mac_PowerPC)|(Macintosh)/},{name:\"QNX\",rule:/QNX/},{name:\"BeOS\",rule:/BeOS/},{name:\"OS/2\",rule:/OS\\/2/},{name:\"Search Bot\",rule:/(nuhk)|(Googlebot)|(Yammybot)|(Openbot)|(Slurp)|(MSNBot)|(Ask Jeeves\\/Teoma)|(ia_archiver)/}].filter(function(e){if(t.match(e.rule))return!0});return e&&e[0]?e[0].name:null}},function(e,t,o){e.exports=o.p+\"h/lato-black.fed940f39ed1e7c6f830e4d74d890525.eot\"},function(e,t,o){e.exports=o.p+\"h/lato-black.85bf3398fe47cac6c64e1f1ce140c95c.ttf\"},function(e,t,o){e.exports=o.p+\"h/lato-black.d80af6888e94820ce6d6d5c7da68ec4e.woff\"},function(e,t,o){e.exports=o.p+\"h/lato-black.6080b596cc762c72e998932cf3bb0bbd.woff2\"},function(e,t,o){e.exports=o.p+\"h/lato-bold.8b18e9a45d401e0ca995272fbb1aca10.eot\"},function(e,t,o){e.exports=o.p+\"h/lato-bold.c607b4b665e00f479476911cc9a0e056.ttf\"},function(e,t,o){e.exports=o.p+\"h/lato-bold.e558e4141667a1cc003ebc8ed565ef9d.woff\"},function(e,t,o){e.exports=o.p+\"h/lato-bold.6506895a7a6d9ebfe9b5892579c34308.woff2\"},function(e,t,o){e.exports=o.p+\"h/lato-bolditalic.a2a885c940e62271ff6a3fe11792e03d.eot\"},function(e,t,o){e.exports=o.p+\"h/lato-bolditalic.edcf5f82ef9609b10be4d2464fe2cc24.ttf\"},function(e,t,o){e.exports=o.p+\"h/lato-bolditalic.d7e69ef007501c15490b166c52dbdcd4.woff\"},function(e,t,o){e.exports=o.p+\"h/lato-bolditalic.5529dd2d6503c66930587b3d77522237.woff2\"},function(e,t,o){e.exports=o.p+\"h/lato-italic.7e48c280b4d4a898d1f8e0aa68f6c464.eot\"},function(e,t,o){e.exports=o.p+\"h/lato-italic.bd93cbe71fd6e18466f34b986bb1bb97.ttf\"},function(e,t,o){e.exports=o.p+\"h/lato-italic.8694a50c736c38f8d66e8a056fac80fa.woff\"},function(e,t,o){e.exports=o.p+\"h/lato-italic.7203689e73c3e33ffb76eab912cf6cd8.woff2\"},function(e,t,o){e.exports=o.p+\"h/lato-light.8ace6b1277ed813eb94ec6d203375b19.eot\"},function(e,t,o){e.exports=o.p+\"h/lato-light.699c18d9a84e78932a0ca6c5df3881ca.ttf\"},function(e,t,o){e.exports=o.p+\"h/lato-light.b111aa90cd9c49c44895c770f92145a2.woff\"},function(e,t,o){e.exports=o.p+\"h/lato-light.f4bb81474f2abfbe98df2a92d1964863.woff2\"},function(e,t,o){e.exports=o.p+\"h/lato-regular.d596eceac825ab1eeb195b7e047a9e59.eot\"},function(e,t,o){e.exports=o.p+\"h/lato-regular.d28eea1ae87c29dbd7cda882d3ec9502.ttf\"},function(e,t,o){e.exports=o.p+\"h/lato-regular.b161dee4fbd8bfd462ba01aa864a7562.woff\"},function(e,t,o){e.exports=o.p+\"h/lato-regular.f9875f1f1ba68caa069063bba4a9690d.woff2\"},function(e,t,o){e.exports=o.p+\"h/lato-semibold.f9bd159b8dcca6f3bfd0dbd14c4ce02b.eot\"},function(e,t,o){e.exports=o.p+\"h/lato-semibold.2a641e82527ac21226c92b288cd4b1a9.ttf\"},function(e,t,o){e.exports=o.p+\"h/lato-semibold.14758955513c1557e9f5000955234f49.woff\"},function(e,t,o){e.exports=o.p+\"h/lato-semibold.29f0b3121975316b94730a7eac0d021a.woff2\"},function(e,t,o){e.exports=o.p+\"h/lato-semibolditalic.c63ca32648c49688cdca595910a19ad7.eot\"},function(e,t,o){e.exports=o.p+\"h/lato-semibolditalic.d966a7b68e4a78d3549422f486f3fb1c.ttf\"},function(e,t,o){e.exports=o.p+\"h/lato-semibolditalic.acfb099cf88603e9423fe696d345b380.woff\"},function(e,t,o){e.exports=o.p+\"h/lato-semibolditalic.4e906a2c9ff270febe5e990eda74fcd0.woff2\"}]);</script> <meta content=\"35\" http-equiv=\"refresh\"/>\n",
       "<script>\n",
       "    //<![CDATA[\n",
       "    (function(){\n",
       "      window._cf_chl_opt={\n",
       "        cvId: \"2\",\n",
       "        cType: \"non-interactive\",\n",
       "        cNounce: \"9979\",\n",
       "        cRay: \"7557ef50b8f4bbc5\",\n",
       "        cHash: \"8bfe031bdd223c7\",\n",
       "        cUPMDTk: \"\\/snyat-ofis\\/?__cf_chl_tk=SYA8LFxRQskKXex8jHkre5HQ68lvIxPB9IV7He_dHaI-1664991547-0-gaNycGzNBz0\",\n",
       "        cFPWv: \"b\",\n",
       "        cTTimeMs: \"1000\",\n",
       "        cRq: {\n",
       "          ru: \"aHR0cHM6Ly93d3cuY2lhbi5ydS9zbnlhdC1vZmlzLw==\",\n",
       "          ra: \"cHl0aG9uLXJlcXVlc3RzLzIuMjcuMQ==\",\n",
       "          rm: \"R0VU\",\n",
       "          d: \"Gi6aDL4dT04FCXnKHuPdQRjb43xQ0DezOyZF42aqUMFy7CB+yamaKMec2l2ec2EaQ2G190jHq2DszIgjodRew3p4kZQmOuX69prPhrkCvjrCWNfo3aEXnu3AI7lgtACM+xHJQ8sW1wjFSuUxxVLph0WLw+73LkEVk+mjKB2ufMkweQoq2HxNtEXArPCHPUf0XFVj6+ruIvGrlPYHMI3Mjf9xaHCmZ/0TisxxM+xv+BnTYTs2omrQoM+d9RfNnCrPwspPru+pXfRGf5es2I7QoYDIlNjvRfZ9dZR1HKwPOu+gp93ol1e/OqVRUBfd/xOfzH68UiIGtLgF/djuvxNgHZ3/eLYxtMBCznfH7+AY+vB3MDMhjHsRz6r2tkZ3GqzcAwNY1hSVmYsz7lyjQaZgNyJxVVCwb15qrdHCPQFk0Py6mbLfTx6jwFDEvEA2DRsFv/UYvnoh04K02w/B+s9D7MwqxQWZq23zMxBMY0Pg8Msg3wK0p08zVdeVgLOPDoIwcVRCM36mF5Man5M67+McmDOUfJ7wQISFdjVBJw2CT1lW7uXMjHEImMUcbGcILLVzVCnQY26y3iv5S7CT9HAXFA==\",\n",
       "          t: \"MTY2NDk5MTU0Ny4wMTAwMDA=\",\n",
       "          m: \"FkAoWuqGUI86vLDZ+XRCTOcviRDTW9Y2WHG6TEefGIw=\",\n",
       "          i1: \"iho2enbUADwACcJNEaKCtQ==\",\n",
       "          i2: \"ZW3BsxObUQYIrhkg/Lv/Pg==\",\n",
       "          zh: \"vZMDSd1AK8xgjlAwKpNbWv9aUsGNJwWlMDWv8l8HqJY=\",\n",
       "          uh: \"JNy/u1JaDY8l68+s834y37Qd6UIzTJLBzCkJPX4t/ps=\",\n",
       "          hh: \"ZNW5b9HMOM/Jb3NyS/h0f2AZOmkdm4XLGLjbCQ4wWec=\",\n",
       "        }\n",
       "      }\n",
       "      window._cf_chl_enter = function(){window._cf_chl_opt.p=1};\n",
       "    })();\n",
       "    //]]>\n",
       "  </script>\n",
       "</head><body><section class=\"container\"><header class=\"logo\"><a href=\"https://cian.ru/\"><img alt=\"logo\" class=\"logo-image\" id=\"logo\" src=\"data:image/jpeg;base64,%2F9j%2F4AAQSkZJRgABAQAAAQABAAD%2F2wBDAAQDAwQDAwQEAwQFBAQFBgoHBgYGBg0JCggKDw0QEA8NDw4RExgUERIXEg4PFRwVFxkZGxsbEBQdHx0aHxgaGxr%2F2wBDAQQFBQYFBgwHBwwaEQ8RGhoaGhoaGhoaGhoaGhoaGhoaGhoaGhoaGhoaGhoaGhoaGhoaGhoaGhoaGhoaGhoaGhr%2FwgARCACUAYIDAREAAhEBAxEB%2F8QAHQABAAICAwEBAAAAAAAAAAAAAAgJBgcBBAUCA%2F%2FEABwBAQACAwEBAQAAAAAAAAAAAAAEBQMGBwIBCP%2FaAAwDAQACEAMQAAAAn8AAAcPnjTKrzpMDI6297HiQAAAAAAAAAAAAAAAAAAAAAPl8jH1TmcYOuaf%2BOT5tPTPc0OG9eyCBegAAAAAAAAAAAAAAAAAAAAa92PXa%2Bv0pymQXL%2BmbU1Syh72%2FlsheYZ5Wcj7J9PoAAAAAAAAAAAAAAAAAAAA0V0DVIgdq5lYd%2BZ%2BvZNW3UHe%2Bcq%2BPsScXA%2Bvffz0AAAAAAAAAAAAAAAAAAAAMMu4td36a4pufQPWaUd5GbrWuSS5L1KV%2FJdo5AAAAAAAAAAAAAAAAAAAAAI09R1aJHauXvnzYup7rO%2F8APnRPZifQAAAAAAAAAAAAAAAAAAAAB8fUMu4aDqbcKWen536vmlN95AAAAAAAAAAAAAAAAAAAAAD5w%2B9PN8xC4xZ5Q5gAAAOAcgAAA4ByAA%2BH0ADgHIAAAAB5MuBoPoPNJFc26loXoOiYncUkjeZ9CyGvvAOPiH%2B6ar7UnFKHRds%2Fbz74%2BIhbnqvpy4so9F3DjF7h1veo5p98SY0bcfr596vrHELeNT72bDKvRdv72HPhtjWRV2SmwSVHzrPFkprc7Y%2Bu7d9PUaNnocTuKiWGkbb6UeRyaGv6TVOy0UrNK2rI4E4AD8fWGEXeuRaa3umltxO80xvkjWm161Yd%2BaOq5tSbQBxjUz3MXZu2Q7QNDse5iy%2FPhThbR853mptK5zc%2FnDz0v7DB39uVXZjzS%2B%2B%2FPqEF%2FVwVze9pbLEtd0G18jx6qZ2eoxaBZ5jVWuLWVXk236zaNqvnZeubfVrY%2BNdbTBtv1OVkMGQIA5ccSt0hW0UkjZdDJAHy8xO7Dy2MvWtZ5%2BO7Gx9jFk6WbxYd%2BaOq5tSbQBxjUz3MXZu2Q7QNDse5iy%2FPhThbR853mptK5zc%2FnDz0v7DB39udXZjzO%2B09PiVUWsfpec20tlhWt6Fa6Zp58Rc%2BSU8eXI73U6chzaot6opq7BUzw53slWtj411tMG2%2FU5WQwZAgBlxxL3SFbRSSNl0MkAaB6HoENO66J8evvcjzOlJhcfHbj%2BbDfzR1TNqTaAOMame5i7N2yHaBodj3MWX58KcLaPnO81NpXObn84eel%2FYYO%2Ftzq7E%2Bc3VT%2BwV%2FerLzmN8%2FPfdetc0K19SJ6ivtOvR4t4Xi58HTwZdJ0Wyyzt8dieiWdWtj409s9XKOx1zuYcg0LQbDgdrltopJGy6GSBqbbtNgx%2BhObdOR62dp2%2By74xusDv0Vxbxp0Xs4PthH5p6tndFsfIPjH8pjvIuztk8Wi6RL7mL38Y1NV1Fz3b4lp3P7LrRPdL%2Bxwt%2FbXCyDXPsbI1xaZr02v20heNulZbDo8%2BH9jWwSkytj0lzs2skdXNgjps9HK%2Bz92L6RLqvtYuip3zu4ZXPz6OnnhenaLaqKTselyjWuy6bBD9E8z8ubkz7Vt%2Bnf%2BfOgZBAx6R3rToS9%2B5t%2BXtu7nW8zT4dvvcxZBi0ZTVtNdv8A260s25q7OPxjUb7TVtFbvbbbOzvm7XkPxUJtdf7lt882qk2DwNilhRU9Ot3DyreJNqHN5FRNpUdvarC17QpWR442hptLVhbyZtbHaTr5n4qGtoLcZlpHL7P1Yvh8VkX9Zr%2Ff8drGrWOfUcf8vWKAf6K4vrLb4WR0%2B0zu%2FPXVc9ocY4fItda51FjsGl%2Ft4kzQ4H2Pe%2BiThicT3TbtVZnm3wN7RKb6%2BfPEgy4v117n%2B1Qpe%2BPO9%2BV7HUVttXx69SixbJYvR1vZh%2BadbqHl%2FQM9p3MZVY3yJqXo1dNn3R%2FvTfYZxLLCcc%2Bb202M6OWqgbKL3%2Bh%2BrXOcSvVjeOPKrCZH150Dzapqdjn9DgGNWcOGncdH39zLoO8dI9cvoH5%2FccRez6L94NkljyK87WPyOjC91B3X3G5fkADzZMLce6Y7MOPWVSF989uVJtHr2dQ4n54ftWGbL19%2Fx2j6R5xLXpNc15809d1%2F18977obrXc2DIbccM%2BuffKuMmfFd9w2r6X59yN948q9cWbQ3QY9odB72DSfAPz%2Bufj7AAPj6H38AcfPnQrpH5fMgAPla9zCw3fK62LQbD8qiZ9e%2FnfsI%2FL6OjX5vz8%2BvRsY3P37%2BUf1jsGXz9ZFYQupEz8%2BvnenYejBzfji9%2BnYxufQdSHk6uDN6dhF%2BvYAAAAAAAAAARzq5%2BP2nyU%2FqB%2Bvn6AAAAAAAAAAAAAAAAAAAAAAAAAAAAAAAAAAAAP%2FEADIQAAAGAgEBBQcEAwEBAAAAAAECAwQFBgAHCDYQERIWNxMUFSAxNDUYITNQMDJBQGD%2F2gAIAQEAAQgA%2FwAEnbIaIA%2FvzTY9beKARBq9bPSeNp%2FWCIAAiO8N%2FnZKrQNNeTslILHWeEknifeJNcbllIF%2Bik%2FqdnbWeNTctv6vdNrPUNfyjxBRRR45Oc%2BqOPhLS0JIzdi4x1SSjfZRVqrbyozzuIkuOFsWV7mrko94AP8AV8qE1h18mdKqEaHn2RZOiGbfAESM85PLs19i9zLjo8URsi7YEv4if1e06iF2pEpFA6bLRj5VBXXG%2B3VWSI3f2flUIsDoQMjIupd8q7fcZqasK60i5AO4O7%2Bs5D6XJIoOLTXe4QEQHNV66c3SaInlZrzWsxDdgx%2FrFEiLJmTV5C6eGrPjz8DTao6tMsi0ba7oTKkRBEW39dKRjWZj3DGQpGqYSiOF1oj%2FAA%2Fv%2Fi%2Ff5u%2F5v3%2Fy2KwsavEuJKVp3IUZ%2B1O0XTN4k%2BbkXbbM5BrUm1OIdBHlU8WWImFQnVp2OFdz8lt5qoQFifxiWtuVp7%2FNe5ptlgcN01Q7LlzRQrdnkYlLXfLE98mfckWS%2FvTRFbHzoGLFy6NMc4UWEs%2BaE1hyfPsN6oQhDeIoD2SD9vFsnDx7YecsY1mHiEPSeYJrlOJxqEQ%2B%2BJRyDocv2z61rhgLqz2rniikc4VlbnBY1lhONa5ui6fESlKJuOCuqIGQIYpygYmbn5VNtX3Retkq3M4LNOtIskBIDKw7N4YOzfXIRPTj%2BMaDFc3QlH6DQKXZQtMQD0PlcOUmiJ1nO%2BNvrXaXPFxLV0qzXIu20btYHzdFm%2F5DHA%2BzpMwR33yGa0%2FDrfIP0HNqeoVgzi91BIZFfjWnYb6Dm4fUuyZxk6tWyG%2FFNMsXT8rlr6pm84pffu8R%2FiL2czt%2BAimegVXNA9dlypdPMc2dsCO1lTZGwzGx9lzmzLC5lp9lHupFYqLNppy6PkfbNJaCkoBcEZWgbDkqfLILI6evSNurbNQmczPX2w5qD1Bh8o3SUR28%2FwDqOs5WvzbPNHdEI%2FKYwEKYx%2BRG5gfHWq9d%2BvZEyzmGeEdMrDPObJJqPnsd98hmtPw63yD9BzanqFYM4vdQSGRX41p2G%2Bg5uH1LsmcZOrVshvxTTLF0%2FK5a%2BqZvOKX37vEf4i5yJ3OhqKlLuWkrKvZ6SXfyYlEg9xtA9dkyp9PsM5U64s%2B0KrHwtVDhdsL%2FALx345Ia%2BZ%2B%2F2gqCJS%2BEvIfUkNf6BLqLKpmQWUTNw4tK6qCMb2czPX2w5qD1Bh8o3SUR28%2F%2BpKxla%2FNs80d0Qj8vIHcSdZYLV%2BDXWUcqnVXABEe4HcS9YIIru%2ByO%2B%2BRzWn4db5B%2Bg5tT1CsGcXuoJDIr8a07DfQc3D6l2TOMnVq2Q34ppli6flctfVM3nFL793lrtsZR6w9nJ7d203e2r0%2Fml9Jarc7DszNAeQ1YaU%2FYbmIj9A9dkypdPMccOEmqCiznaXNCu1hdaOqU3zMusocRQ%2FVjeslOUd6ko50zw6hlVDqKcMfyvZzM9fbDlOn%2FACxYmcoMVzYfxDFFmz%2FXVL5%2BuuWzdW6pPccq0dSta%2FNs80d0Qj8m3dxRlIiHbZjKyrqZfrvZAA7x7g1XqyQuMqkY89qWFmKR5cy1V5erTz2Kd5HiBXqIjq50k5hlTIdpxAhDCOyXiL%2B9TrhpxjXSQsq6SsWAhHNAHDiBSGE21XiD%2FYliXacaFSJXHwHiSiSMaAazrEb1uYVWsa6bqwSy7fisumlKLpH5gb6Jcn6NRqtVqz60SiDRjojVDbXdZQOvynlGkpuawiw0Qum2vCR16sQyUCyKpzV3iswBGkVQhFHCnhJTNGXC7LECKR4VXpUneM1w8uMFEPZJ%2BcvgOYucM1iEnEkBHOYblJ3vmxHQRQUXN4UQgZIQ7w%2BASefAJPF26rVQU3FXIZScZgTSaB0aQ2FTs21sxpSIdYiU%2FOOrDJrvXwZriivLTLJJkqdWZVaMI1Y5vbTKF3jjzEKu3VaLHRdZozai1ZliMpGMkUJVmk6admx11G1DsSreUETSLoR4sNUFrQUy0f8AYtuzYKyjejWJZCaMJ5Z6Y3FlsgtbEhWj%2FsW%2Bb%2FXWa6gtCjZX%2BVTI21PoVACRMcwXlnxEG%2FFXTisMghNyrj9myubl9VrnnHdqi5uiBV4wwkgEjE3M%2FdyWzLStIaigmsvMj79R4ZjC1pghGZywvyNR1PMtUDG8RjDnD5BP3%2BEw3%2Bps3%2BsovtiyHX0vFtZGcWF7WKTAFrsSA%2BSa%2Fg0qAzlg0QZ7hnEWmsUU1rO2BXTQiOvokRxcFDIKghuxSwBcHydkyoVtewyzZslrbXrGnRSHs%2B3kTpT7m21rGpVTLF9hx5dTpogE5Hs2b6e2TJP79zmrtmhrt6d2QnOSdTIBCfrnnstXNKzzsI%2Bi0HC5nK6ix9X7JDXj8zsuqOT87cH7ZtnIMe%2FTNnxX%2BVTClE49xeMWovM0uiutERaELHN2LN19urm5vVe5Zxx61QyFDxQ7YM5b0NzT9oPHg0yx%2BXZZByejcyIqKg2rSYsfOuFaAdOJ2VtKe2hOnlbFnD77%2BFw%2F%2Bhs336qWPNFfmnWVvp2L7P8Ag5y59aJ4M1b1Q2zTHp7Edt0o8Re4dWNntm6KlqNKE%2BG6I1weDiwkZP5FUiLpHSV3loI8MdWeqOnNGPHy5H8%2BwYoxzYiDbsmI5KWjHTF1f9cTUJcJdi18nT%2BeTp%2FPJ0%2Fnk6fzydP49j3cat7F%2FwAeZdZCyotkrbDJWmhyUc8n6BOxk7Js09ca6l5azIIvdV0clGrRGZsVL40jlzkfq2ZgtqTazLRUZKQtxbne172vwZoDjaup4TasCpFz22eM1r11JLe4LQki3OKayEDJuh8KGouK1jvD0PjmyNRTlJuMpDNuI68m0sTNg8MHeUc5Qa2lonbs0MbqtnMV6xJe%2BU86itYijL5%2Fwc5pawdIXNCehNfQEzG2Nqo500i6b0aPRe9qqKa5BIuQhUyARP5TpkVIJVU0iIk8KPyLwka6P43XlqHzy1D55ah88tQ%2BeWofOaTVBnt4UmnHrrYcjA745ABVgYxwoKi7aEjmantGodrqIYPTAZ4jARaChVEAAA7FW6S5BKsrryrrHMdVtr%2BrtFAUQTSTRJ4UnMNHvD%2BN20iGDE4qMsdRDB8fxvC1yIIYDFAAAO4Ox3HNH4AD0K3EFHvApQIHcX%2Fzbq4sMNt2Yk4pr7hqypM8EljdEG6JEi%2F%2FABX%2FxABHEAACAQMABQYJCAgFBQAAAAABAgMABBEFEBIxURMhQVNUsSAiUmFxobLC0RQyUGORk5SzIzM0VXJzgbQVJDCSwUBgotLi%2F9oACAEBAAk%2FAP8AQ0jbRlN6mUbQ%2FpWkoSScc5xU8cycUYH6NOAKmIlQgT3Qx9gq%2Bnlkc5YtIaupl9Ehq6keAtTAsVUsPT9GHE8qGCI8GYEA0S0kjZPnJqV47XIIAwCeIoS2F2N0qGhs3Fs2DXOLcxxL6DkfRn6lLgCSs%2FJS%2Fj7O%2BtkKhwcdJ1CLbS1VZyhBy%2B0%2B%2BoGeOdoSZehCpbvzXkj6LGZ2iLwfzQDs%2BusxzQOVPpFAzDcSQMVagXLpgTEfMNStPcSnLMemkBgBjbec5Gfo2JzeJg3UKAHbG7IFDVFIYU52wKTZSJAPo1Q6MMEEZBqDGipzmZEQ4hbNRO4dseKpNRKLlx%2Bkf6PiE1tcIUkU9INCQtKzHxyDgE5xu%2BjZ0hghXPjuFydwAzRS3tGucQIZM5i2jj1U6yI45ipzVoHEA3mrKPL0gSRW2Tj0A%2BDowEWsmxkzY92rFIIEK8rIH2yM1udQ3269Ggi0k2MmbHu1YxwouNs8rmhjlEDY9NDKwRNIR6ATWi0xBO8QzPwYjyaskhij4SZJNdI1SrDbwIXkdiAABVgk9nDKyRzGf9YAd%2B6rCOHI22flaXY5VQ2M51aSt7UkZSFplDv6ATmtDh%2F5k3%2FzVlseZJyKghETdJk2KnggJVSMzqd9EMp3EarITzWyIZXMvlorjoqxSAzlhth9vcpO7Fb54lf7QDrsxcm8R2yXxuxWj4YjK2MtPQAGQuRubz%2BE4jiQZZjuFSumhbbAAwByj5JJpzHKhBUipsPziRWrcR7zV5YrrfdXwe0%2B6K4wd711Kd2vtXuivq%2FerqV7q7JL7Brt8%2F5jV1nwrhqvJRMcHSrxhcYySI9reDkKdXUH20rqhT4S3Q8lH0yyYJCDznFXkkxc%2Fo4uYKi9AAGBULzSOwUBR0k4FaEuJY%2BIFWstrIRtKGGMirmUwB12k38wPnov40ZKF8ccHV1Vp%2FbR1xk%2FKeuyRewuvqJvcrrBXEd3gkKqjJJqUGCNx8pmXPOcbtb7EiUcyMMegV5YrrfdXwe0%2B6K4wd711Kd2vtXuivq%2FerqV7q7JL7Brt8%2F5jV1nwrhTwy6busw2cJfnVipw5Uc5UGp5Lu8uG2pJGOSxoEGuzn20rqhQhMAueWnD78gEDGWFRQ%2Fan%2FvUCSaTIXYQlTs4pVAqBRpKxtGmtpgBldg7ZFZDIxU%2BkGtyXT%2Bzq6q0%2Fto64yflPXZIvYXX1M3uV1griO7wZs6UuYyJZEfBhFMZJHOWZjkk6raSKGcZjdlIDbt32jX5YrrfdXwe0%2B6K4wd711Kd2vtXuivq%2FerqV7q7JL7Brt8%2F5jV1nwq5S2s7SIuWdgNo9CjPSTgChJFZhzHaQGUsEQYUEDcCQoJoERO5x58Amokijtogh2BgMwJBNdnPtpXVCnWKGMFndjgAUg0rcjfOCpQGj8k%2FlvV%2FP%2BJatJToJ4zGTy7HmPMaYu7ksxO8k12xvy9XVWn9tHUfK%2FJy3i8cqV%2F5q0%2FQxABcgGrX%2FwAFq19S1DHClmGWEJwOK6wVxHd4FwJtMthEjA%2BYTz5NSma4mYs7HiTqiKWivh39AzUAQRQbMEvSrhcBqOZLZ8ZHSCAR6jq3BxTh1MmQR6B4BwAKkEsL3J2WHmAFPh7h4ViHlEFq3iFB6tW4CpBLC12QG9AANHDTNGsfnPPW8RL3UwWNLOUseA2DTh4pbyZ0bipckGnw7vlfVV6JdB2iZvHQfrptvcc8NlTVvJMHYbWxjOM1bCDSkyHlV37FTiYQTyQS%2BZ1kbIpthGiKA%2BfaWhgiMVpEJLKHOldgHbA3BKBd2NaMdo3QPtkgAAjIrkE9L1NbJBaQtLIdvoFHODjNHEst07IOI2NThwEtR9lvHS7bVZTEfw1Yz%2F7KsZ%2F9lRtE43hhihk8oKGNvBH2DXOn%2BISKQqh%2BdRipDI8jard3iyDIwX5oz31Eikb2CBdUQi05AASEj%2FaF4GonhmQ4ZHUqynzg6rj%2FACkmR45qRZI5FB5jnXI0UqWMpV0OCDsmjkmQ5NQo5QqVJFdWvdqdo5U0dOyupwQQhoksZmJJ9NRI5RwVJFdWvdUrwyCBBtIcHBlQGvKPfU8tpJuaSFyjEcMio2kkkYDCLmrE22EBUSDnd88zV5Jr98XX5rVEkw4OM9IrnZYMj7KmkmmGlrtAZCSVUTMAvoFEGNSuU2ec%2BMNzdFIEi5FCd2SdkarmAaVv0SKCF3GSplUPhf4Nquk5pBzQyuP4tthqdpH%2BVEZaoUnEexsq4BHO2K0VaMfkcOS0Kkk7A5zzVoiz%2B4X4Vomz%2B4X4VCkMSCABU%2FlikVwNrf8AwmjkmFPZGohZSp2CdwPRUcsI5Z%2BRzudQfnDzHVGW5WQD0DpP9BSI1w6Alhk%2BAiIAC99B766siToIoGW2KJh2O4YOPt1%2Fu%2BX2TXWGoZJZTjZwFI5s8TUL%2FcxUj%2FcxUmEvYJIJHeKPmDDFfOc5NRSyy82zshf%2BTUI%2BTcskJDhBXURfnJXlHvrfU0Zic5lwudgAZoFYYECjJJ3V5Jr98XX5rVw95a6YxX7Fpd3uYH85OX9bUXEaNkhOmoZZ3jQDbAStG3Mrnc4CH3qunckBY4dyRLknAAwOk8%2Brs8vttXCu1tX1Xtiuxw%2BwNf1P5Yrg%2FsmuoT2BrgMiMpCSLgPESMbS5BGRSTaR0VMQI5uZmU8GxjuqERzyEEJ4IDxupVgekGkuLqCeVnuoWdDyZPP4oABxUPIQQtzISPHNDCINcYlguIzG6HcwIrRN80EU%2FiEx5yCM7wMVoe8%2B5NaIvPuTWiLz7k1oi8%2B5NaHvPuTVvJbS4zsyLg4pUOGE5zxUgDvqLl0urQgpxI5x6wK0RfFLe6liQtESSFcgHIrQ92YlG0QYjSBLmRtuUAggHAGBjo1dIxVhd3VrpG5lukkAD87OSRzVo26iyMJm3c5baHAUmxJyY2hUTkb0kiIDo2CMqSCKsZ9K6J3pOhR2%2FqB8KsblXG8ckasLhzwEZq2fRlgHYTO%2BAwAXIxWjry6tYJ2EEwjztpk45wMVYzQPAjhcwOPEJJyTu1aOvbmyuSk0UuA%2BSUUtu4E1ou6it7h1V3Ns7EY5xjHnxSlH%2BSRZBBGPEGu1vr19J%2FtW5kQoFChQBWi7uNCWGTA3SpqJoHSJAFYYONkeBGkiHerqCKUKoGAAMDwkDqd4YZFIqLwUYHg2NtM%2FF4VY%2BsVouz%2FDr8K0XZ%2Fh1%2BFaLs%2Fw6%2FCtF2f4dfhWi7P8OnwqFIIxYpzJ%2FHJXUH21rdsVo%2B1lc72aFSasbaGTdtJCqn1DwLOCdhuMkQbvrR1rHIpyrLAoI9WuNZFPQwzWgdGs7HJJtIyT6q0Do1ZF3MLSPI9VIqLwUYqyt524yRBu%2BrO3gcjBaOIKSP6arOCdx0yRBj660bZhgcgiBfh4FtFcAHmEiBu%2BtGWYI4QL8KAAH%2FT6QeynEQietMyzJsFClbkGB%2F2X%2F8QALxEAAgICAQIEBQQBBQAAAAAAAgMBBAAFEQYQEhMzNBQVIDEyISI1UEEWJDBAYP%2FaAAgBAgEBCAD%2FAIE0rD5%2FYequLjkjWYTwX9b0z0pD4i1cVTrpGBCUKn77nptFhckm7TOmyQL%2Br6doxf2S1kMCsOI3nVzKjJUin1psUN8TNfdXsawvX1fQEDkx%2Fq%2Bh5D5lMTsZYNQ5VsYOHz4s6IBgayZLrABKsJ5P3%2Fq9JfnW31vxZi9cFG46TG5Mmqj0LMs5ehC6y4WvrLZAcwoP6zpLqOUGNKx23%2B5DXImBt2jtuJh%2F1kTIzzHSXUXxgxUftdkvXpkp2mybsXSRf1yXHXZDF7Hd2tnEQ7%2BsqVW3HQpWx6TmnUEoMCWUiWl6UjaVIfh9DwAyU3qw1mcD3meI5yhq9XarA0n6KiKZNJD4Ske0zxHOa%2FV6u1VFpu0NKEkxBj4DkcmYGOSrajVOQDJtaKotPmI%2B3ZYEwoEUaPXwEecWgoSsiS9flMkO1PXvuz%2BwdTrUBy0F6YB4z5HqbH6I2Gjs0c447anXULiPMcWi10hMqsKhLSCO2nqUb3jh4dP61s%2BFd2tFVvgj6QAmF4R6V6eHXJ89zFg0JA%2BpdFKDkw6OjjUjln0SzberH0M%2FCc1%2FtQyn7csd6pdj%2FCc1vtAzW%2Bwfj%2FVLHenOVfbhiP4mcn79qlfyF%2BaWaX8H5c9csrJ89kDLH8jC1mwFxyZ7miE8Eiyt8eJWt2fP%2B3s7vXzUeU9tb6Oa31Cy%2FwC5PvrfXbmr9xm69z9MRz%2BkdIdOSMRdsdrNZdpcrOjTCinygs%2BiWbb1Y%2Bhn4Tmv9qGUvbljvVLsf4Tmt9oGa32D8f6pY705yr7cMR%2FEzk%2FfKVfzC8ZkXMyUxMTml%2FB%2BXPXLDvfBOiS%2F1CrGQGxmGFFRERxHkTRcL64z9pjYH8TRE5zW%2Bjmt9Qsv%2B5PvrfXbmr9xm69z9PSfTxXmxacACsYEcVZS4iAO1n0SzberH0M%2FCc1%2FtQyl7csd6pdj%2FCc1vtAzW%2Bwfj%2FVLHenOVfbhiP4mcUkntgB%2FQBhQ32yhUZqiIkz4tL%2BD8ueuWCEsmBitpKyogrqT09ceI%2BN1WPta1ipEIjjD%2FjZ7a30c1zlJdy1tTRuOTL5foM%2BXaHGVK1ewZVtX7jN17n6NBoH7N4kVauuqqFLzfb5NBMiFTeWat%2F4uKFwb1YXjj4mVFEbgZFsc92T%2BycohIVhgqjQhJDLvULsyeAnKAEFYRKg9YU3BLp5YWO9OcrjIoAZQ5c62VQpE1BmCdYUiOWEXmzLJ1iyBHJal61Q2Dtzy8soiVfkyIv8AJWNxVr%2Fpk9RD%2FivuysthQRPMc4TQnXkPaio1K8JzMDHM%2FEJz4lOfEpwSE45HXGIP5LcFB2OY7aLUM2T4ylUXTTC15u9qukmeLtxlxsmedL9RHrGwhoGLB8Q51RohtKlymqJJyBdnmSw8QqnkIxSVRriOGfnPZ5ksPEKZ5XEylCvl5Mxn5zjTNcjID9ow7KhT4VEX%2BZurTAcE%2BeFFxrZkqSpnXoUVQzm8XhI5ykcmgZmjrIuLkpela3l4MqJZJ%2BdERxGbJCg1XiFs8LnNYZMrQR62ki4BQ21qanxDM%2BU1MnU1Yic0oQutAjp1Awp8W8EQvGI4HEFHi6YGl8FE1s2d4aaCLNttG32zz36R6kmJijZxkhAz4%2BqQqw%2BZV2telOK9OMpX6MVpr2JraCZ5n4Xp%2FLlXTyuRSI%2BGOMo7CkNaUWH6bWvQTkWf0kcH7R2kpCPNJrJaclNn0SzV%2ByVmt9keXR8ZGOaR8GklTp76q5eB9zp2tbZLkFpKlUolxkM8CGbX%2BIxvplmp9rGaP8Dy17g%2BxfjOan0M0n5Tm%2B%2FkGd9bsrGrfDkaXqmvskz5vUe3m06Vh9AzIzzHTHVcPiKtzqDqcOJUhjCaUkXa4BmgoClsEMriR%2FG1s%2BNrZ8bWz42tnxtbFsBschQaB0iEtkJQMyCL9c0iUhb15%2FtbZaLC4DHDJLmI1F5cVoU3XbbXhVNZ2eJcXD67lPizVpbpTv2PF6ijmCsJD72twM8hWpbNTkQTbezo2dZ5YHHiCYjVW1LR5bdNtaKvEB2iA3EQZMcxMZq7YpM0u0201yWTD901T7ZMV3EpGeYmZmeZ%2BmJmJ5iSkv1n6J11Up5n5ZUz5ZUz5ZUz5ZUz5ZUzTLFSjEdd6J4%2BIIyiZ1tWZxdCsueR7soVml4iHW1RnmOza6nR%2B%2F5WjjiB1qI%2B61AuOAPX1mTySaSEF4gxlGu0vEca2rE4MQMcR2bTQ%2BeT%2BWVMABWPhH%2FrA2%2FUIoVV3O2SXEkXimZn%2FwAV%2F8QANhEAAQIDBQQJBAEFAQAAAAAAAQARAhAhAzFBUbEgYXGBEiJQUpGhweHwBDAy0YIjQEJg8fL%2F2gAIAQIBCT8A%2BxATyUBQbs4UwCgAA3KEeChr2bc7lXBAIiIZFXFf5OezL2or2ncTTwCNQ9M3bsy568MVUGUVAgwCNQ47NPVNxymalY9nHri45o1Rp2eWIWHZoclVLV4oKK9RXK7Zt2Jwb3Vr0jw9zsW7E4Nv4q16TbvdYK5fUM4BuGI4q0MQzams7yvqB0sWb9q16RG73KwkGGZu8VbGKLID3KhKtq72Hqg44TtuicvhVt0iMPhWBna9Awt58wrdzy%2Fe2HKH9Q%2BQQcFDgs1kstvOe%2FUrdqs5ZDRd70M%2FyN24S7p1ErseCHRhFwHxyio1E660JpPM6yzM932BwExSWSy28579St2qzlkNF3vQyHVHnun3fUShJDYKzPn%2Bk7ZYKAKlQCMC9JYBvOWZ1lmZ7tsdQeaDASiBIvnkstvOe%2FUrdqs5ZDRd70KxVwWKL1K7vqJByo23Cp53MrHpcV9KPnJfTAGXysszqrio4n4e6ji8PdRxeHuiWO0Gs8SgwEj1kbzVY%2FZNVnO%2F3RqWWcsANEet0ruS%2FI37giyLjBC8uOCLEw08RKFiWYoouVZFWJc8P3I1EgxlEFEFEEdkdVBmlFVGRezPki4Moa7BYyhD0rMsZCtJFi8g0WcgIicxdLujRQ1Y15yL0GkoAOAaRYQ%2Bb0bk7yhAMi5Qe%2FRDE6oIK5zqg6DAGVyIJYPukUabFe6ZXKmyIqtc37C6Xz%2BSEXz%2BShiJOf8A6MhFXJv2E4LE1%2F6VnOGgunkNFkdZXwFl%2BKtgAasX91bCLcPgQaEXCWayW%2FUrfoszrPM6yzOszXyO4oiGMYIuNogEChr5o7F6jAKjCjCjCjCjHii4RwIWBGqjDkBWrPl%2FwovDMiEw08FagFvVFfliM11I1EFEFWLChZRARXEbxerQGJ7pRARAmnMsrUAl9EXBLzIDXc1agAouDjsH7sKhUKhUKhVwJnCoRsQqGcIKccynPMoMoVCxlDVQ7ELqBXf24BBL1UELH%2FTP%2F8QALhEAAgIBAgQGAgICAwEAAAAAAQMCBAAFERASMTIGExQgITMVUCJCNEEjMEBg%2F9oACAEDAQEIAP8AosatRq7%2BYrxHprZcoTYVYHMv9Z0zWtdlaka9XkiTuSuBxD7GnzDEaRqi9TQJj9Xr9iSKEuVcDMiI0zQ6cFczrGi0Hw5RdqSpPKpaC%2F0t8DB8%2Fq%2FEi5yqgiL51pBkNHtQt1ROOeIbULF0xjpVQtfF2Dp%2BrtVxaRNJemSWSXOhet6VMlDfE996zCMY%2FwCs0XTiiuJT%2FWa7pQuw85ZBB2OaFo5aQ920Y9v6wfGeINJA3tJ0bSpXm7yjGC4CEP13x0KkJTHlX%2Bsu3VUEFrFeJbcLfO1D4WFhi9Y1rUKdsqUfEuqgZo91t6sGs9luesRfIKS3V4nmdCXNEHjcnrEXyCYP1mEx5iyZQBOxPR7NaDZCCbGrwYPNHBkwuBkW2tXdLnT5%2BtxIMkTlNYlLLeoLqnkBbq9k%2FE6OqTO%2BSdr1Yc50%2FwARqsMKbAIkNxmpnUoTj6UN13fK5nJQM%2BGpS1CHL6WT9dgN8pzaxQLfa1sEwM56rqbNTfvkoiY2Og6tLT3eQ3xARK8SJdDnhv8AwR7Bj%2FsON%2BqWK%2BscBlj7TljvjiuwZHrjO%2BWN%2B7I9OBbNrCOFn%2BuI%2BsZMkRPLXrRTvIprtsHZY0S1j6rq52ZqelKvKO3h6%2FJkDVblntjhxH1ji7tHBH9vaSIgk67q5vMKFcGLDBsd5kDnl0OeG%2F8ABHsGP%2Bw436pYr6xwGWPtOWO%2BOK7BkeuM75Y37sj0x7Rv5OKVBMBBZBHWz%2FXEfWMVXW%2BJ5vxqcbajWV5CPMOJsc8CmcomJMTGiqFv1Iyz2xw4j6xxd2Dgj%2B3t8Qaz1poGAEnYNpWEQDJ8JdDnhv8AwR7Bj%2FsON%2BqWK%2BscBlj7TljvjiuwZHrjO%2BWN%2B7JzMIbhUZiO7KCQN3T1MiTxIWf64j6xjGwTAzm25etbxqs0y2%2F7fwTMTo01MEzh6jhZ7Y4%2BLZLIVBGuLGw5Nezk17K5eERg%2FEf29ms68lEZIR89SAT8DRNCaJee96F2UlLbSoofJccEJM%2FjHQFTRUEGexshKZINZrlS5IRMIiJ4OkJzJE6rnyiVwiYxAIIB3MyJTJD1Thu%2BSLEbkQ0VKbbJ3i9pP%2FGL04zZHlnXa%2Fby1wkuHLJvk3PkLXJkhGC9IbyiTvxtPH06CFmciAD8Cu2URMZOwqxCJUtU2nlh%2BPtZ%2BPtZ%2BPtZOEly5ZRhKZ2jBU0kifDxDrIpr9OmEOUbnPD2ilh89057%2FAzXNGjZibCeGj6qT%2FCcJhkdxwEIs%2FjIDb4FKcumT7jwjCM%2F4y2A%2BBSlLpk%2B45yQYDGY6YwlyilldJdMRDXeQnyox6437JZTlISIDPlhwqgqcowpM8uZOWWzawmWX3JbKNOWV5y8jbBk1QTMxXSbNTCYzv2eY56%2BzgvWctsm1nNNBInjiTIE4wTKyIXqNmtYlOzmhaTK60Tn8LgFw465ooSTZRlZbWNAVRqsSkSbwX3cLXr%2BXama%2BvH5PpteyqjVoMEnZZ9fy7U9Mq6lNhNqPwTg6YASdghUaijPGTLJGRj1xv2zyp3nGfDDlmBEufGFsQSmWpaquZAFvWbMSIVagrgmWV%2FpwZY%2B05W7zk%2B48X94xHfjeo42qibiytt3w1NTImtWX6RAUPZOEWRMJX%2FDAhDnp6PpcNPWJMlIzO54LIEgTLTbPMeT8Zcz8bbz8bbz8bbz8bcxqGIlysW6SCSEHnI3OmWtyI1qNpU%2BaVl4fL4yPXGUHMlzpFO8g7x3nL5nBgMCqbNNM489eVZ8CQV07DTtFVFNVZlZbprTPdHkXK8dpDGUHO2YoUriDzZ%2FPcifCVNlgCap0b6RzwJbvsziCR09wO2bk%2B2Fh0BtH1djPV2M9XYz1djPV2MtsmyQM5f7xfaMjZdAbCdhzBtLjB7V9hsvkNjwjKUT8C9Zw3rBwyJ6wsNWNoze1g2nkHtUNoereRt7INYvs9XYwnf%2FAM6pU5R2c0UDE8gAHwP%2FAIr%2FxAA4EQABAwEFBAgFAgcBAAAAAAABAAIRECExQVGRAxIgYQQiUHGBobHRMDKSwdJA8BMjM0JgguHx%2F9oACAEDAQk%2FAPgbQSMJtW01sTgRy7OMNF5z5BWoJxgYK%2FEdmXus1oN5y2e6cx%2F2aXO7MuF6vCvx76f22I%2FK5vjJ7MxCwVrcimhs440F8Hs0dceYqLMEI7OHeEOqELB2g2Ozf%2FV8hN2QlGQUBC3UIPDu7qIgRhwRu4LdjQ13Ykwt0jzrgmhrcAb%2FABujuW7GivoC52QtPeYuHNbuyH1fiulR3NP5KH8gI%2B5Tf4buZ9wKxHNbqvqBGMrdKEOx4jACsYLh9zQ9QrIff4vOuayqOoNZ9qZ0vRlxvKEqE2EIcLjzXzM%2BDnw3L%2BmDfmeAzFnxedc1lQwSChAGFM6P3T3LbDQo2Zoq0H1WC%2BY%2FBz4f9jlyq0gH4%2FOuayV6Mk%2FuPBCwIRLQVnQwBem7ozdf4DEeK6S7ws9Cukv%2Bo%2B66Q8xhvO96Z1dDsDetsNFtm6LbN0Tt5wvMRTPgM7S7uqIi6ULCjIFLyhB4mzPC2RbwDqAWnxQIGHMZoWBXDzRuaAhNqvRkNN2EhCSiGhbb96LbQB97BhmihZQyBI0KEpiYmIQUEIqf5jssOavNBZhKuoIeL7L62u9RwCQaGokGhoJFLWnDgzKNGx3Zmhmgkug2YQZBPIkRQ2UAA5c6PKedU86oyeC%2BLFa5xv8Aag6oVgHBdiOeYpejaQOHaBhzIn1BXSR9I%2FFdJH0j8V0mQCLA0W%2BQptA05kT6grpE8g0ew4L65mtxV62IIzk%2ByY1nMkzpulHecbzn7dws4OXHlUWLrNOcSPRCLOESCpJm0EjyuQ63C2R3hM9EzzCZ5hM8wmeiEFBYpkjvCZ5j3QgCo3gbcL1s9SPdC1XH9yjvDIkSPRMKYVbOATZaeYTIH21oJB7ls%2FT3Qg1E6LZye8e6EH9C4hPOpTzqU86lPOpTzqUZKyo4jxTifHgcQnnWpTynnWjiE4mjiE86ngMJ51P6hknkmGf8M%2F%2FZ\"/></a></header><article class=\"info\" id=\"article\"><h1 class=\"title\">Мы проверяем ваш браузер</h1></article><section class=\"snippet\"><p>Через 5 секунд вы попадете на страницу, которую попытались открыть...</p><p>Если этого не произошло - отправьте следующий ip-адрес на почту <a href=\"mailto:support@cian.ru\">support@cian.ru</a> с описанием проблемы</p><p>IP: 81.16.250.131</p><p class=\"hidden\"></p><div class=\"cf-browser-verification cf-im-under-attack\">\n",
       "<noscript>\n",
       "<h1 data-translate=\"turn_on_js\" style=\"color:#bd2426;\">Please turn JavaScript on and reload the page.</h1>\n",
       "</noscript>\n",
       "<div id=\"cf-content\" style=\"display:none\">\n",
       "<div id=\"cf-bubbles\">\n",
       "<div class=\"bubbles\"></div>\n",
       "<div class=\"bubbles\"></div>\n",
       "<div class=\"bubbles\"></div>\n",
       "</div>\n",
       "<h1><span data-translate=\"checking_browser\">Checking your browser before accessing</span> www.cian.ru.</h1>\n",
       "<div class=\"cookie-warning\" data-translate=\"turn_on_cookies\" id=\"no-cookie-warning\" style=\"display:none\">\n",
       "<p data-translate=\"turn_on_cookies\" style=\"color:#bd2426;\">Please enable Cookies and reload the page.</p>\n",
       "</div>\n",
       "<p data-translate=\"process_is_automatic\">This process is automatic. Your browser will redirect to your requested content shortly.</p>\n",
       "<p data-translate=\"allow_5_secs\" id=\"cf-spinner-allow-5-secs\">Please allow up to 5 seconds…</p>\n",
       "<p data-translate=\"redirecting\" id=\"cf-spinner-redirecting\" style=\"display:none\">Redirecting…</p>\n",
       "</div>\n",
       "<form action=\"/snyat-ofis/?__cf_chl_f_tk=SYA8LFxRQskKXex8jHkre5HQ68lvIxPB9IV7He_dHaI-1664991547-0-gaNycGzNBz0\" class=\"challenge-form\" enctype=\"application/x-www-form-urlencoded\" id=\"challenge-form\" method=\"POST\">\n",
       "<input name=\"md\" type=\"hidden\" value=\"zfUh1fJvxTqCfT.A4BFCzEGcZs9HiKukVC4iBSzPQlc-1664991547-0-AftpdimlyDSiN9soJvTsYu1Cn5Jvwhfb0IFVF9dKWjjQnfBJ6TwPq5wgqXEYFT1B8cqvULaoZ3bWL1KTNVmgdSmCqiNU26BfUgzMeLilyGZEiku7zTpNokX-CPfHODH-RoU5RWlLe-pySJ6r0yivk5bj_znVDlUZ7TUrg0rx7HTNtOEdqorUGjYXbo8kNrcOPqah6vjuQCne5T_Xz_HyclkuLiPvgWlOW1ez_DtB94ktaHlQtDsWSz1jMchY1mQrLqVs3yu0Abyf_C-Blz9Wdmk7mNan8UQby9HF8W7T9OVSPJAXvc7LsjQI0BAiM0iToW3V2g4qYIFyWEQpMWFKHfvJNsdl_3N49Kpwyv0cOay4pzEmkuGzY7AaL7l6lpv2ULYibqsI5DTsbdpAOytBnBsg6-9TN8CskF7LeE0vu3S2br896liEhIYklgRHoTKFpkumf91XqJTh4PSHWr6wjpXdqVCZp7Fnn3WJjUcRuqEqvEI4_P_I4FlDeQNtC9TtvvMQxfNYCuw7NXDWJ90aqH8uirLA9b9i_W89__e5LDgtNa7ABb0-0-owf55HLQXoSghJbcXd8uiB6-BhzHfTECbkNGYIZ9WM_QL-WihOZFYoAo0dp3i7-7v3ODRPSr8JfQ\"/>\n",
       "<input name=\"r\" type=\"hidden\" value=\"qul6STyWN_tvLslp9o7Szw_DaVJnwg5WFe11deO.kOs-1664991547-0-AQ4oZ0q/oZ+PLfXfmKTrwK3acDhTQg+xzdcHLJrZ3y65GWC2LMDv4X2+mWvLnbgIIHeHmYL3T9EHvw+YFHDm17syREy4l09jGgcIj2iuZYagRH+E+J4jWRVMYM+Mxo53liOMz5UAvCu1eNL+5l+K7N+48Jsr047VSUcfqBwRXgTIyZmCT3SY9shCPXeT9owuxxbwrYA1P3O8Rv+wxzKJusiQF8NlhYVrFmlMnwedr+2GfkbzoxlCFUFqWpwLlXzUTjgXYmkgHiFIaJWntn4JAAin9GNs2/HACdpzrjeZsALPVBK18VP8DkU1e1tSKyH9sN7zSfeBdTi9hVPSTCljE6Z0khEaJ1LGFp25Dqp1PI/e08uS9hd8+hCceVN0PUsdxLmldqcC9jf8KxHsuuTI/4vUfxOsDjfqlawE81wNOAdBSsSRGV8BWop2PI4ZRTy4BtKxcRoY/iyf5MBdAHvgv8Mo0TLkepdNpWx5GC2p4fNTb4sGjzCI6vCAhb/9qlHKW4GDs2fp9kCzZbcmUjjqDC2uhsJe58nfXv21IO2Ip47N/Sd/uSceZUqdzECzGHcEYLkP9gsBJlhVdGv/F3+Krjimqel4iN+nC0nFpgVzOnsBHEGfQeilziCHMvZ6s2bZOQuN8nki8fCpvs+UAXPno4yo7QrOtZaEDuvkYJWrPRI04ej30mpY+Nd1T6LB4P/4CwQ/9RN57oHbsqcItge4W4+hCGvGJzLviKjYJDy0eMFoKUkRBNx7R8QcWOEF3DStNHik2ZFnrfwdvfwER+2Ep82g+1sC59xNHBSmK8WFX8JFH2eOGSGYJRkwhwwspz0SqI5yKcw1t/CvHHP5hrVX68ySZc5fqHZLzcXG8AXfyIYLcd2Dh/YXG8/Tr7saqykRSNpdNpiJlBZRSOwhST9QWvEh163HNGCCon639i8vWWN5/zgs7c/g3lXWvYbLW7Cj41WlBIu1z/aaS1ko/UWhfpf0bxj1d6VO2utLVDpCoF82a3XLqv8K4Ylgo5osWrGLROM0ARR7SWOU0XU6VZVGcaxV8sU+CH26u4AbdWe688yI4vU6tBLUlgzbPmvEQAPm/mPpcinB/wEj9gXx2SnoXsr5/ZRJ7muObW2bYCGhFbGHGxCNd8C4C3wCaFsvCVo45k5+0EQbT7O6Ps3ebywjO88dunda7SuQIxl/MfrJjJ4ZxX75I+8VjpT66Gd8XkX2HA9Co92bn1oG/vxKNGWXZ8Bhdf8H/Hv1n/L50WzgzCMiTR5BmLvVYdExowD2V/5Ac6D01NBSFVcaWavMBxxpiWi7u/bfnXsnWObLL11gpb/IZJ8DIC6ygnvTXrk/J9RhN+/YJXdxymcBzHM21SLi94mk7u9cTFbqsXub0Alxj0AvtiNTXzYlkGlwmrs47k13Yfa1qd4+QsKsMNwA1GFr9EzQf1lxL5+madSzy/TUkc5Jb+qqohRlbOUoOrcV+beC14LiQoT99Msan1HKp39jeuqi4YHip/cj5qZhIIfnx2MvVZ2xjaLx2K5j/N0Adg3NpZ4xXQx4izNCMEy9jlD+P9yAD+YlDxxM0h/IFX4xqvASRrddLFp3ubln8WBeVftVOPZowg1V3ohswHedCujlpUXV3Ewuy2hXh45qiAV+n3VjN+F4YPFKjxNEtjfanA9mPGuW19EnikpcjtHO9uVSeZVcZJtHS8QehKeQTyxb3xNJn9zNqloAbd1s0RYwtM7fmUn72vnZgoi6CLXnIUcwHLs5+aNSApc+S3D9n8bYD/unwWuFy/Fp38gGZIuFwHPuRg==\"/>\n",
       "</form>\n",
       "<script>\n",
       "      //<![CDATA[\n",
       "      (function(){\n",
       "          var a = document.getElementById('cf-content');\n",
       "          a.style.display = 'block';\n",
       "          var isIE = /(MSIE|Trident\\/|Edge\\/)/i.test(window.navigator.userAgent);\n",
       "          var trkjs = isIE ? new Image() : document.createElement('img');\n",
       "          trkjs.setAttribute(\"src\", \"/cdn-cgi/images/trace/jsch/js/transparent.gif?ray=7557ef50b8f4bbc5\");\n",
       "          trkjs.id = \"trk_jschal_js\";\n",
       "          trkjs.setAttribute(\"alt\", \"\");\n",
       "          document.body.appendChild(trkjs);\n",
       "          var cpo=document.createElement('script');\n",
       "          cpo.type='text/javascript';\n",
       "          cpo.src = '/cdn-cgi/challenge-platform/h/b/orchestrate/jsch/v1?ray=7557ef50b8f4bbc5';\n",
       "          \n",
       "          window._cf_chl_opt.cOgUHash = location.hash === '' && location.href.indexOf('#') !== -1 ? '#' : location.hash;\n",
       "          window._cf_chl_opt.cOgUQuery = location.search === '' && location.href.slice(0, -window._cf_chl_opt.cOgUHash.length).indexOf('?') !== -1 ? '?' : location.search;\n",
       "          if (window._cf_chl_opt.cUPMDTk && window.history && window.history.replaceState) {\n",
       "            var ogU = location.pathname + window._cf_chl_opt.cOgUQuery + window._cf_chl_opt.cOgUHash;\n",
       "            history.replaceState(null, null, \"\\/snyat-ofis\\/?__cf_chl_rt_tk=SYA8LFxRQskKXex8jHkre5HQ68lvIxPB9IV7He_dHaI-1664991547-0-gaNycGzNBz0\" + window._cf_chl_opt.cOgUHash);\n",
       "            cpo.onload = function() {\n",
       "              history.replaceState(null, null, ogU);\n",
       "            };\n",
       "          }\n",
       "          \n",
       "          document.getElementsByTagName('head')[0].appendChild(cpo);\n",
       "        }());\n",
       "      //]]>\n",
       "    </script>\n",
       "<div id=\"trk_jschal_nojs\" style=\"background-image:url('/cdn-cgi/images/trace/jsch/nojs/transparent.gif?ray=7557ef50b8f4bbc5')\"> </div>\n",
       "</div>\n",
       "</section><script>function loadLogo(){var t=document.createElement(\"img\");t.onload=function(){var t=document.getElementById(\"logo\");t&&t.setAttribute(\"src\",\"//cdn.cian.site/frontend/frontend-status-pages/logo_glitch.gif\")},t.src=\"//cdn.cian.site/frontend/frontend-status-pages/logo_glitch.gif\"}loadLogo();</script></section></body></html>"
      ]
     },
     "execution_count": 12,
     "metadata": {},
     "output_type": "execute_result"
    }
   ],
   "source": [
    "soup"
   ]
  },
  {
   "cell_type": "code",
   "execution_count": 13,
   "id": "84a4122b",
   "metadata": {},
   "outputs": [],
   "source": [
    "soup.find('div', {'data-name': 'Pagination'})"
   ]
  },
  {
   "cell_type": "code",
   "execution_count": 14,
   "id": "728ac53e",
   "metadata": {},
   "outputs": [],
   "source": [
    "soup.find('div', {'class': '_32bbee5fda--wrapper--bKcEk'})"
   ]
  },
  {
   "cell_type": "code",
   "execution_count": 7,
   "id": "40c4c875",
   "metadata": {},
   "outputs": [
    {
     "ename": "AttributeError",
     "evalue": "'NoneType' object has no attribute 'find'",
     "output_type": "error",
     "traceback": [
      "\u001b[0;31m---------------------------------------------------------------------------\u001b[0m",
      "\u001b[0;31mAttributeError\u001b[0m                            Traceback (most recent call last)",
      "\u001b[0;32m<ipython-input-7-0c98620350fa>\u001b[0m in \u001b[0;36m<module>\u001b[0;34m\u001b[0m\n\u001b[0;32m----> 1\u001b[0;31m current_page = int(soup.find('div', {'data-name': 'Pagination'})\\\n\u001b[0m\u001b[1;32m      2\u001b[0m                         .find('li', {'class': '_32bbee5fda--list-item--FFjMz _32bbee5fda--list-item--active--WifA5'}).text)\n",
      "\u001b[0;31mAttributeError\u001b[0m: 'NoneType' object has no attribute 'find'"
     ]
    }
   ],
   "source": [
    "current_page = int(soup.find('div', {'data-name': 'Pagination'})\\\n",
    "                        .find('li', {'class': '_32bbee5fda--list-item--FFjMz _32bbee5fda--list-item--active--WifA5'}).text)"
   ]
  },
  {
   "cell_type": "code",
   "execution_count": 24,
   "id": "c2154156",
   "metadata": {},
   "outputs": [
    {
     "data": {
      "text/plain": [
       "1"
      ]
     },
     "execution_count": 24,
     "metadata": {},
     "output_type": "execute_result"
    }
   ],
   "source": [
    "current_page"
   ]
  },
  {
   "cell_type": "code",
   "execution_count": 25,
   "id": "205a1dfb",
   "metadata": {},
   "outputs": [
    {
     "ename": "IndexError",
     "evalue": "list index out of range",
     "output_type": "error",
     "traceback": [
      "\u001b[0;31m---------------------------------------------------------------------------\u001b[0m",
      "\u001b[0;31mIndexError\u001b[0m                                Traceback (most recent call last)",
      "\u001b[0;32m<ipython-input-25-13492d13a0ed>\u001b[0m in \u001b[0;36m<module>\u001b[0;34m\u001b[0m\n\u001b[0;32m----> 1\u001b[0;31m \u001b[0mt\u001b[0m \u001b[0;34m=\u001b[0m \u001b[0msoup\u001b[0m\u001b[0;34m.\u001b[0m\u001b[0mfindAll\u001b[0m\u001b[0;34m(\u001b[0m\u001b[0;34m'script'\u001b[0m\u001b[0;34m,\u001b[0m \u001b[0;34m{\u001b[0m\u001b[0;34m'type'\u001b[0m\u001b[0;34m:\u001b[0m \u001b[0;34m'text/javascript'\u001b[0m\u001b[0;34m}\u001b[0m\u001b[0;34m)\u001b[0m\u001b[0;34m[\u001b[0m\u001b[0;36m0\u001b[0m\u001b[0;34m]\u001b[0m\u001b[0;34m.\u001b[0m\u001b[0mdecode_contents\u001b[0m\u001b[0;34m(\u001b[0m\u001b[0;34m)\u001b[0m\u001b[0;34m.\u001b[0m\u001b[0mstrip\u001b[0m\u001b[0;34m(\u001b[0m\u001b[0;34m)\u001b[0m\u001b[0;34m.\u001b[0m\u001b[0msplit\u001b[0m\u001b[0;34m(\u001b[0m\u001b[0;34m\"window._cianConfig['frontend-serp'] = \"\u001b[0m\u001b[0;34m)\u001b[0m\u001b[0;34m[\u001b[0m\u001b[0;36m1\u001b[0m\u001b[0;34m]\u001b[0m\u001b[0;34m\u001b[0m\u001b[0;34m\u001b[0m\u001b[0m\n\u001b[0m",
      "\u001b[0;31mIndexError\u001b[0m: list index out of range"
     ]
    }
   ],
   "source": [
    "t = soup.findAll('script', {'type': 'text/javascript'})[0].decode_contents().strip().split(\"window._cianConfig['frontend-serp'] = \")[1]"
   ]
  },
  {
   "cell_type": "code",
   "execution_count": 56,
   "id": "56036238",
   "metadata": {
    "scrolled": false
   },
   "outputs": [],
   "source": [
    "t = soup.findAll('script', {'type': 'text/javascript'})[3]\\\n",
    "    .decode_contents().strip().split(\"window._cianConfig['legacy-commercial-serp-frontend'] = \")[1]\n",
    "t = t[1:-2]"
   ]
  },
  {
   "cell_type": "code",
   "execution_count": 61,
   "id": "01dd7c36",
   "metadata": {},
   "outputs": [],
   "source": [
    "ads = json.loads(t[[m.start() for m in re.finditer('\"offers\"', t)][0] + 9: ].split(\"aggregatedOffers\")[0][:-2])"
   ]
  },
  {
   "cell_type": "code",
   "execution_count": 63,
   "id": "0792a4a7",
   "metadata": {},
   "outputs": [],
   "source": [
    "res = ads[0]"
   ]
  },
  {
   "cell_type": "code",
   "execution_count": 65,
   "id": "95a3db2f",
   "metadata": {},
   "outputs": [],
   "source": [
    "ad_url = res['fullUrl']\n",
    "ad_id = res['id']\n",
    "date = res['creationDate']\n",
    "\n",
    "address = res['geo']['userInput']\n",
    "latitude = res['geo']['coordinates']['lat']\n",
    "longitude = res['geo']['coordinates']['lng']\n",
    "build_year = res['building']['buildYear']\n",
    "description = res['description'].replace('\\n', ' ')"
   ]
  },
  {
   "cell_type": "code",
   "execution_count": 68,
   "id": "a8dbc69e",
   "metadata": {},
   "outputs": [
    {
     "data": {
      "text/plain": [
       "'Помещение свободного назначения.  м. Речной вокзал, 5 мин. на авто, ул. Фестивальная, д. 20, к.2. Площадь 421,0 кв.м., 1-й этаж. Два входа/выхода. Идеально под продовольственный магазин, продажу мебели, досуговый центр, салон красоты, массажный салон, пункта приема и выдачи заказов. Находится на проезжей части дороги с хорошей проходимостью. Стихийная парковка. Коммунальные платежи оплачиваются отдельно.  Прямая аренда.'"
      ]
     },
     "execution_count": 68,
     "metadata": {},
     "output_type": "execute_result"
    }
   ],
   "source": [
    "description"
   ]
  },
  {
   "cell_type": "code",
   "execution_count": null,
   "id": "0adc13e3",
   "metadata": {},
   "outputs": [],
   "source": []
  }
 ],
 "metadata": {
  "kernelspec": {
   "display_name": "Python 3.8.8 ('base')",
   "language": "python",
   "name": "python3"
  },
  "language_info": {
   "codemirror_mode": {
    "name": "ipython",
    "version": 3
   },
   "file_extension": ".py",
   "mimetype": "text/x-python",
   "name": "python",
   "nbconvert_exporter": "python",
   "pygments_lexer": "ipython3",
   "version": "3.8.8"
  },
  "vscode": {
   "interpreter": {
    "hash": "40d3a090f54c6569ab1632332b64b2c03c39dcf918b08424e98f38b5ae0af88f"
   }
  }
 },
 "nbformat": 4,
 "nbformat_minor": 5
}
