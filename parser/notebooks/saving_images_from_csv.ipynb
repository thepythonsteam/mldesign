{
 "cells": [
  {
   "cell_type": "code",
   "execution_count": 2,
   "metadata": {
    "scrolled": true
   },
   "outputs": [
    {
     "name": "stderr",
     "output_type": "stream",
     "text": [
      "/opt/anaconda3/lib/python3.8/site-packages/tqdm/std.py:697: FutureWarning: The Panel class is removed from pandas. Accessing it from the top-level namespace will also be removed in the next version\n",
      "  from pandas import Panel\n"
     ]
    }
   ],
   "source": [
    "import pandas as pd\n",
    "from pathlib import Path\n",
    "from tqdm.notebook import tqdm\n",
    "from fake_headers import Headers\n",
    "import requests\n",
    "tqdm.pandas()"
   ]
  },
  {
   "cell_type": "code",
   "execution_count": 3,
   "metadata": {},
   "outputs": [],
   "source": [
    "df = pd.read_csv('/Users/a19329895/WORK/PARSERS/PARSER_CIAN/ВСП.csv', names=[\n",
    "                'id',\n",
    "                'date',\n",
    "                'title',\n",
    "                'price',\n",
    "                'sqr_total',\n",
    "                'address',\n",
    "                'latitude',\n",
    "                'longitude',\n",
    "                'url',\n",
    "                'description',\n",
    "                'photos'\n",
    "            ])"
   ]
  },
  {
   "cell_type": "code",
   "execution_count": 5,
   "metadata": {},
   "outputs": [
    {
     "data": {
      "text/html": [
       "<div>\n",
       "<style scoped>\n",
       "    .dataframe tbody tr th:only-of-type {\n",
       "        vertical-align: middle;\n",
       "    }\n",
       "\n",
       "    .dataframe tbody tr th {\n",
       "        vertical-align: top;\n",
       "    }\n",
       "\n",
       "    .dataframe thead th {\n",
       "        text-align: right;\n",
       "    }\n",
       "</style>\n",
       "<table border=\"1\" class=\"dataframe\">\n",
       "  <thead>\n",
       "    <tr style=\"text-align: right;\">\n",
       "      <th></th>\n",
       "      <th>id</th>\n",
       "      <th>date</th>\n",
       "      <th>title</th>\n",
       "      <th>price</th>\n",
       "      <th>sqr_total</th>\n",
       "      <th>address</th>\n",
       "      <th>latitude</th>\n",
       "      <th>longitude</th>\n",
       "      <th>url</th>\n",
       "      <th>description</th>\n",
       "      <th>photos</th>\n",
       "    </tr>\n",
       "  </thead>\n",
       "  <tbody>\n",
       "    <tr>\n",
       "      <th>0</th>\n",
       "      <td>259288761</td>\n",
       "      <td>2021-06-22T18:48:09.58</td>\n",
       "      <td>Севастополь</td>\n",
       "      <td>909</td>\n",
       "      <td>220.0</td>\n",
       "      <td>Россия, Севастополь, улица Генерала Петрова, 2...</td>\n",
       "      <td>44.606568</td>\n",
       "      <td>33.512981</td>\n",
       "      <td>https://sevastopol.cian.ru/rent/commercial/259...</td>\n",
       "      <td>Новое помещение (300м2), (220м2 зал + 80м2 скл...</td>\n",
       "      <td>https://cdn-p.cian.site/images/10/578/811/nezh...</td>\n",
       "    </tr>\n",
       "    <tr>\n",
       "      <th>1</th>\n",
       "      <td>268151284</td>\n",
       "      <td>2021-12-17T19:16:08.563</td>\n",
       "      <td>Севастополь</td>\n",
       "      <td>1200</td>\n",
       "      <td>86.5</td>\n",
       "      <td>Россия, Севастополь, улица Павла Корчагина, 19Бк1</td>\n",
       "      <td>44.586658</td>\n",
       "      <td>33.433633</td>\n",
       "      <td>https://sevastopol.cian.ru/rent/commercial/268...</td>\n",
       "      <td>Аренда помещения свободного назначения 86,5 кв...</td>\n",
       "      <td>https://cdn-p.cian.site/images/08/119/911/torg...</td>\n",
       "    </tr>\n",
       "    <tr>\n",
       "      <th>2</th>\n",
       "      <td>268149198</td>\n",
       "      <td>2021-12-17T18:02:29.21</td>\n",
       "      <td>Севастополь</td>\n",
       "      <td>1200</td>\n",
       "      <td>180.0</td>\n",
       "      <td>Россия, Севастополь, улица Павла Корчагина, 19Бк1</td>\n",
       "      <td>44.586658</td>\n",
       "      <td>33.433633</td>\n",
       "      <td>https://sevastopol.cian.ru/rent/commercial/268...</td>\n",
       "      <td>Аренда помещения свободного назначения 180 кв....</td>\n",
       "      <td>https://cdn-p.cian.site/images/29/709/911/torg...</td>\n",
       "    </tr>\n",
       "    <tr>\n",
       "      <th>3</th>\n",
       "      <td>254558797</td>\n",
       "      <td>2021-04-05T16:02:35.72</td>\n",
       "      <td>Севастополь</td>\n",
       "      <td>2500</td>\n",
       "      <td>230.0</td>\n",
       "      <td>Россия, Севастополь, улица Айвазовского, 3</td>\n",
       "      <td>44.612536</td>\n",
       "      <td>33.519925</td>\n",
       "      <td>https://sevastopol.cian.ru/rent/commercial/254...</td>\n",
       "      <td>Помещение в самом центре Севастополя, в шагово...</td>\n",
       "      <td>https://cdn-p.cian.site/images/38/118/601/nezh...</td>\n",
       "    </tr>\n",
       "    <tr>\n",
       "      <th>4</th>\n",
       "      <td>267748447</td>\n",
       "      <td>2021-12-07T21:43:17.133</td>\n",
       "      <td>Севастополь</td>\n",
       "      <td>500</td>\n",
       "      <td>250.0</td>\n",
       "      <td>Россия, Севастополь, улица Генерала Мельника, ...</td>\n",
       "      <td>44.572873</td>\n",
       "      <td>33.572827</td>\n",
       "      <td>https://sevastopol.cian.ru/rent/commercial/267...</td>\n",
       "      <td>Сдаются помещения свободного назначения от 100...</td>\n",
       "      <td>https://cdn-p.cian.site/images/35/852/911/nezh...</td>\n",
       "    </tr>\n",
       "  </tbody>\n",
       "</table>\n",
       "</div>"
      ],
      "text/plain": [
       "          id                     date        title  price  sqr_total  \\\n",
       "0  259288761   2021-06-22T18:48:09.58  Севастополь    909      220.0   \n",
       "1  268151284  2021-12-17T19:16:08.563  Севастополь   1200       86.5   \n",
       "2  268149198   2021-12-17T18:02:29.21  Севастополь   1200      180.0   \n",
       "3  254558797   2021-04-05T16:02:35.72  Севастополь   2500      230.0   \n",
       "4  267748447  2021-12-07T21:43:17.133  Севастополь    500      250.0   \n",
       "\n",
       "                                             address   latitude  longitude  \\\n",
       "0  Россия, Севастополь, улица Генерала Петрова, 2...  44.606568  33.512981   \n",
       "1  Россия, Севастополь, улица Павла Корчагина, 19Бк1  44.586658  33.433633   \n",
       "2  Россия, Севастополь, улица Павла Корчагина, 19Бк1  44.586658  33.433633   \n",
       "3         Россия, Севастополь, улица Айвазовского, 3  44.612536  33.519925   \n",
       "4  Россия, Севастополь, улица Генерала Мельника, ...  44.572873  33.572827   \n",
       "\n",
       "                                                 url  \\\n",
       "0  https://sevastopol.cian.ru/rent/commercial/259...   \n",
       "1  https://sevastopol.cian.ru/rent/commercial/268...   \n",
       "2  https://sevastopol.cian.ru/rent/commercial/268...   \n",
       "3  https://sevastopol.cian.ru/rent/commercial/254...   \n",
       "4  https://sevastopol.cian.ru/rent/commercial/267...   \n",
       "\n",
       "                                         description  \\\n",
       "0  Новое помещение (300м2), (220м2 зал + 80м2 скл...   \n",
       "1  Аренда помещения свободного назначения 86,5 кв...   \n",
       "2  Аренда помещения свободного назначения 180 кв....   \n",
       "3  Помещение в самом центре Севастополя, в шагово...   \n",
       "4  Сдаются помещения свободного назначения от 100...   \n",
       "\n",
       "                                              photos  \n",
       "0  https://cdn-p.cian.site/images/10/578/811/nezh...  \n",
       "1  https://cdn-p.cian.site/images/08/119/911/torg...  \n",
       "2  https://cdn-p.cian.site/images/29/709/911/torg...  \n",
       "3  https://cdn-p.cian.site/images/38/118/601/nezh...  \n",
       "4  https://cdn-p.cian.site/images/35/852/911/nezh...  "
      ]
     },
     "execution_count": 5,
     "metadata": {},
     "output_type": "execute_result"
    }
   ],
   "source": [
    "df.head()"
   ]
  },
  {
   "cell_type": "code",
   "execution_count": 6,
   "metadata": {},
   "outputs": [],
   "source": [
    "df = df.drop_duplicates('id').reset_index(drop=True)"
   ]
  },
  {
   "cell_type": "code",
   "execution_count": 7,
   "metadata": {},
   "outputs": [],
   "source": [
    "def save_images(class_name, row, index):\n",
    "    class_name = class_name.replace(' ', '_')\n",
    "    image_links = str(row['photos']).split(', ')\n",
    "    for image_number, link in enumerate(image_links):\n",
    "#         if image_number % 100 == 0:\n",
    "#             time.sleep(5)\n",
    "        output_file = Path(f'{class_name}/{class_name}_{index}_{image_number}.jpg') \n",
    "        output_file.parent.mkdir(exist_ok=True, parents=True)\n",
    "        with open(output_file, 'wb') as handler:\n",
    "            try:\n",
    "                handler.write(requests.get(link, headers=Headers(headers=True).generate()).content)\n",
    "            except:\n",
    "                pass"
   ]
  },
  {
   "cell_type": "code",
   "execution_count": 8,
   "metadata": {},
   "outputs": [
    {
     "data": {
      "text/plain": [
       "251"
      ]
     },
     "execution_count": 8,
     "metadata": {},
     "output_type": "execute_result"
    }
   ],
   "source": [
    "229 + 22"
   ]
  },
  {
   "cell_type": "code",
   "execution_count": null,
   "metadata": {},
   "outputs": [
    {
     "data": {
      "application/vnd.jupyter.widget-view+json": {
       "model_id": "10f53d10dd2949d28573906a84614221",
       "version_major": 2,
       "version_minor": 0
      },
      "text/plain": [
       "HBox(children=(HTML(value=''), FloatProgress(value=0.0, max=2206.0), HTML(value='')))"
      ]
     },
     "metadata": {},
     "output_type": "display_data"
    }
   ],
   "source": [
    "for index, row in tqdm(df.iterrows(), total=len(df)):\n",
    "    save_images('positive', row, index)"
   ]
  },
  {
   "cell_type": "code",
   "execution_count": null,
   "metadata": {},
   "outputs": [],
   "source": []
  }
 ],
 "metadata": {
  "kernelspec": {
   "display_name": "Python 3",
   "language": "python",
   "name": "python3"
  },
  "language_info": {
   "codemirror_mode": {
    "name": "ipython",
    "version": 3
   },
   "file_extension": ".py",
   "mimetype": "text/x-python",
   "name": "python",
   "nbconvert_exporter": "python",
   "pygments_lexer": "ipython3",
   "version": "3.8.5"
  }
 },
 "nbformat": 4,
 "nbformat_minor": 4
}
